{
 "cells": [
  {
   "cell_type": "code",
   "execution_count": 1,
   "metadata": {},
   "outputs": [],
   "source": [
    "import sys\n",
    "import os"
   ]
  },
  {
   "cell_type": "code",
   "execution_count": 2,
   "metadata": {},
   "outputs": [],
   "source": [
    "root_dir = os.path.dirname(os.getcwd())\n",
    "sys.path.append(root_dir)"
   ]
  },
  {
   "cell_type": "code",
   "execution_count": 3,
   "metadata": {},
   "outputs": [
    {
     "name": "stderr",
     "output_type": "stream",
     "text": [
      "Using TensorFlow backend.\n"
     ]
    }
   ],
   "source": [
    "from controlzone import Control_zone\n",
    "from counter import Counter\n",
    "from detector import YOLOV3Detector\n",
    "from trackerspeedestimator import TrackerSpeedEstimator\n",
    "from utils import *"
   ]
  },
  {
   "cell_type": "code",
   "execution_count": 4,
   "metadata": {
    "scrolled": false
   },
   "outputs": [],
   "source": [
    "video_path = os.path.join(root_dir,\"videos/Road_traffic_cut.mp4\")\n",
    "\n",
    "yolov3_weights_path = os.path.join(root_dir,\"yolov3_weights/pretrained-yolov3.h5\")\n",
    "video_capture = cv2.VideoCapture(video_path)\n",
    "\n",
    "HEIGHT = int(video_capture.get(cv2.CAP_PROP_FRAME_HEIGHT))\n",
    "WIDTH = int(video_capture.get(cv2.CAP_PROP_FRAME_WIDTH))\n",
    "FPS = int(video_capture.get(cv2.CAP_PROP_FPS))\n",
    "\n",
    "classes = ['car', 'truck', 'motorcycle']\n",
    "\n",
    "fourcc = cv2.VideoWriter_fourcc(*'XVID')\n",
    "out = cv2.VideoWriter('output2.avi', fourcc, FPS, (WIDTH, HEIGHT))\n",
    "\n",
    "icons = load_icons(classes)\n",
    "\n",
    "R_col = (255, 0, 0)\n",
    "G_col = (0, 255, 0)\n",
    "B_col = (0, 0, 255)\n",
    "\n",
    "counter1 = Counter(cls=classes,\n",
    "                   border=(325, 400, 600, 400),\n",
    "                   color=R_col,\n",
    "                   draw_loc=\"bottom-left\")\n",
    "\n",
    "counter2 = Counter(cls=classes,\n",
    "                   border=(665, 400, 912, 400),\n",
    "                   color=G_col,\n",
    "                   draw_loc=\"bottom-right\")\n",
    "\n",
    "cz1 = Control_zone(1, HEIGHT, WIDTH,\n",
    "                   ((630, 342), (451, 342)), ((170, 475), (585, 475)),\n",
    "                   52, col=R_col, draw_loc=\"top-right\", speedlimit=130)\n",
    "\n",
    "cz2 = Control_zone(2, HEIGHT, WIDTH,\n",
    "                   ((675, 475), (1035, 475)), ((820, 348), (665, 348)),\n",
    "                   52, col=G_col, draw_loc=\"top-left\",speedlimit=130)\n",
    "\n",
    "detector = YOLOV3Detector(cls=classes, weights_path=yolov3_weights_path)\n",
    "\n",
    "trackerspeed = TrackerSpeedEstimator(video_capture=video_capture, czones=[cz1, cz2])\n",
    "\n",
    "while video_capture.isOpened():\n",
    "    # Capture frame-by-frame\n",
    "    ret, frame = video_capture.read()\n",
    "\n",
    "    if not ret:\n",
    "        break\n",
    "\n",
    "    img = frame.copy()\n",
    "\n",
    "    result, detections = detector.detect(img)\n",
    "    if len(detections) == 0:\n",
    "        continue\n",
    "\n",
    "    trackerspeed.track(detections)\n",
    "\n",
    "    # counting objects\n",
    "    trackerspeed.map_centroid_class()\n",
    "\n",
    "    # Couting Display\n",
    "    _ = counter1.count_class(trackerspeed.objects, trackerspeed.mapped_centroid_classes)\n",
    "    _ = counter2.count_class(trackerspeed.objects, trackerspeed.mapped_centroid_classes)\n",
    "\n",
    "    counter1.count_display(img=result, icons=icons)\n",
    "    counter2.count_display(img=result, icons=icons)\n",
    "\n",
    "    cv2.namedWindow(\"video\", cv2.WINDOW_AUTOSIZE)\n",
    "    result = cz1.display_zone(img=result)\n",
    "    result = cz2.display_zone(img=result)\n",
    "\n",
    "    trackerspeed.compute_speed()\n",
    "    trackerspeed.display_speed(img=result)\n",
    "\n",
    "    trackerspeed.display_tracking(img=result)\n",
    "\n",
    "    out.write(result)\n",
    "    cv2.imshow(\"video\", result)\n",
    "\n",
    "    if cv2.waitKey(1) & 0xFF == ord('q'):\n",
    "        break\n",
    "\n",
    "detector.close()\n",
    "video_capture.release()\n",
    "cv2.destroyAllWindows()\n",
    "out.release()"
   ]
  },
  {
   "cell_type": "code",
   "execution_count": null,
   "metadata": {},
   "outputs": [],
   "source": []
  }
 ],
 "metadata": {
  "kernelspec": {
   "display_name": "testenv",
   "language": "python",
   "name": "testenv"
  },
  "language_info": {
   "codemirror_mode": {
    "name": "ipython",
    "version": 3
   },
   "file_extension": ".py",
   "mimetype": "text/x-python",
   "name": "python",
   "nbconvert_exporter": "python",
   "pygments_lexer": "ipython3",
   "version": "3.6.8"
  }
 },
 "nbformat": 4,
 "nbformat_minor": 2
}
